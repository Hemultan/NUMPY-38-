{
 "cells": [
  {
   "cell_type": "code",
   "execution_count": 1,
   "id": "8268f389",
   "metadata": {},
   "outputs": [],
   "source": [
    "import pandas as pd"
   ]
  },
  {
   "cell_type": "markdown",
   "id": "e53662e4",
   "metadata": {},
   "source": [
    "## Задание 1\n",
    "Напишите функцию, которая классифицирует фильмы из материалов занятия по правилам:\n",
    "\n",
    "оценка 2 и ниже — низкий рейтинг;\n",
    "оценка 4 и ниже — средний рейтинг;\n",
    "оценка 4.5 и 5 — высокий рейтинг.\n",
    "Результат классификации запишите в столбец class."
   ]
  },
  {
   "cell_type": "code",
   "execution_count": 38,
   "id": "8bf7a3d7",
   "metadata": {},
   "outputs": [],
   "source": [
    "movies = pd.read_csv('D:/DataSci/Python/Numpy_pandas/hw3/ml-latest-small/ratings.csv')"
   ]
  },
  {
   "cell_type": "code",
   "execution_count": 39,
   "id": "d79ddcc5",
   "metadata": {},
   "outputs": [],
   "source": [
    "def movie_classification(row):\n",
    "    if row['rating'] <= 2:\n",
    "        return 'Низкий рейтинг'\n",
    "    elif row['rating'] <= 4:\n",
    "        return 'Средний рейтинг'\n",
    "    elif (row['rating'] == 4.5) or (row['rating'] == 5.0):\n",
    "        return 'Высокий рейтинг'"
   ]
  },
  {
   "cell_type": "code",
   "execution_count": 40,
   "id": "1929e1ba",
   "metadata": {},
   "outputs": [],
   "source": [
    "movies['class'] = movies.apply(movie_classification, axis=1)"
   ]
  },
  {
   "cell_type": "code",
   "execution_count": 41,
   "id": "0ee0e3b5",
   "metadata": {},
   "outputs": [
    {
     "data": {
      "text/html": [
       "<div>\n",
       "<style scoped>\n",
       "    .dataframe tbody tr th:only-of-type {\n",
       "        vertical-align: middle;\n",
       "    }\n",
       "\n",
       "    .dataframe tbody tr th {\n",
       "        vertical-align: top;\n",
       "    }\n",
       "\n",
       "    .dataframe thead th {\n",
       "        text-align: right;\n",
       "    }\n",
       "</style>\n",
       "<table border=\"1\" class=\"dataframe\">\n",
       "  <thead>\n",
       "    <tr style=\"text-align: right;\">\n",
       "      <th></th>\n",
       "      <th>userId</th>\n",
       "      <th>movieId</th>\n",
       "      <th>rating</th>\n",
       "      <th>timestamp</th>\n",
       "      <th>class</th>\n",
       "    </tr>\n",
       "  </thead>\n",
       "  <tbody>\n",
       "    <tr>\n",
       "      <th>0</th>\n",
       "      <td>1</td>\n",
       "      <td>31</td>\n",
       "      <td>2.5</td>\n",
       "      <td>1260759144</td>\n",
       "      <td>Средний рейтинг</td>\n",
       "    </tr>\n",
       "    <tr>\n",
       "      <th>1</th>\n",
       "      <td>1</td>\n",
       "      <td>1029</td>\n",
       "      <td>3.0</td>\n",
       "      <td>1260759179</td>\n",
       "      <td>Средний рейтинг</td>\n",
       "    </tr>\n",
       "    <tr>\n",
       "      <th>2</th>\n",
       "      <td>1</td>\n",
       "      <td>1061</td>\n",
       "      <td>3.0</td>\n",
       "      <td>1260759182</td>\n",
       "      <td>Средний рейтинг</td>\n",
       "    </tr>\n",
       "    <tr>\n",
       "      <th>3</th>\n",
       "      <td>1</td>\n",
       "      <td>1129</td>\n",
       "      <td>2.0</td>\n",
       "      <td>1260759185</td>\n",
       "      <td>Низкий рейтинг</td>\n",
       "    </tr>\n",
       "    <tr>\n",
       "      <th>4</th>\n",
       "      <td>1</td>\n",
       "      <td>1172</td>\n",
       "      <td>4.0</td>\n",
       "      <td>1260759205</td>\n",
       "      <td>Средний рейтинг</td>\n",
       "    </tr>\n",
       "    <tr>\n",
       "      <th>5</th>\n",
       "      <td>1</td>\n",
       "      <td>1263</td>\n",
       "      <td>2.0</td>\n",
       "      <td>1260759151</td>\n",
       "      <td>Низкий рейтинг</td>\n",
       "    </tr>\n",
       "    <tr>\n",
       "      <th>6</th>\n",
       "      <td>1</td>\n",
       "      <td>1287</td>\n",
       "      <td>2.0</td>\n",
       "      <td>1260759187</td>\n",
       "      <td>Низкий рейтинг</td>\n",
       "    </tr>\n",
       "    <tr>\n",
       "      <th>7</th>\n",
       "      <td>1</td>\n",
       "      <td>1293</td>\n",
       "      <td>2.0</td>\n",
       "      <td>1260759148</td>\n",
       "      <td>Низкий рейтинг</td>\n",
       "    </tr>\n",
       "    <tr>\n",
       "      <th>8</th>\n",
       "      <td>1</td>\n",
       "      <td>1339</td>\n",
       "      <td>3.5</td>\n",
       "      <td>1260759125</td>\n",
       "      <td>Средний рейтинг</td>\n",
       "    </tr>\n",
       "    <tr>\n",
       "      <th>9</th>\n",
       "      <td>1</td>\n",
       "      <td>1343</td>\n",
       "      <td>2.0</td>\n",
       "      <td>1260759131</td>\n",
       "      <td>Низкий рейтинг</td>\n",
       "    </tr>\n",
       "  </tbody>\n",
       "</table>\n",
       "</div>"
      ],
      "text/plain": [
       "   userId  movieId  rating   timestamp            class\n",
       "0       1       31     2.5  1260759144  Средний рейтинг\n",
       "1       1     1029     3.0  1260759179  Средний рейтинг\n",
       "2       1     1061     3.0  1260759182  Средний рейтинг\n",
       "3       1     1129     2.0  1260759185   Низкий рейтинг\n",
       "4       1     1172     4.0  1260759205  Средний рейтинг\n",
       "5       1     1263     2.0  1260759151   Низкий рейтинг\n",
       "6       1     1287     2.0  1260759187   Низкий рейтинг\n",
       "7       1     1293     2.0  1260759148   Низкий рейтинг\n",
       "8       1     1339     3.5  1260759125  Средний рейтинг\n",
       "9       1     1343     2.0  1260759131   Низкий рейтинг"
      ]
     },
     "execution_count": 41,
     "metadata": {},
     "output_type": "execute_result"
    }
   ],
   "source": [
    "movies.head(10)"
   ]
  },
  {
   "cell_type": "markdown",
   "id": "264fc82e",
   "metadata": {},
   "source": [
    "## Задание 2\n",
    "Используйте файл keywords.csv.\n",
    "\n",
    "Нужно написать гео-классификатор, который каждой строке сможет выставить географическую принадлежность определённому региону. Т. е. если поисковый запрос содержит название города региона, то в столбце ‘region’ пишется название этого региона. Если поисковый запрос не содержит названия города, то ставим ‘undefined’.\n",
    "\n",
    "Правила распределения по регионам Центр, Северо-Запад и Дальний Восток:\n",
    "\n",
    "geo_data = {\n",
    "\n",
    "'Центр': ['москва', 'тула', 'ярославль'],\n",
    "\n",
    "'Северо-Запад': ['петербург', 'псков', 'мурманск'],\n",
    "\n",
    "'Дальний Восток': ['владивосток', 'сахалин', 'хабаровск']\n",
    "}\n",
    "\n",
    "Результат классификации запишите в отдельный столбец region."
   ]
  },
  {
   "cell_type": "code",
   "execution_count": 42,
   "id": "8070d630",
   "metadata": {},
   "outputs": [],
   "source": [
    "geo_data = ({\n",
    "    'Центр': ['москва', 'тула', 'ярославль'],\n",
    "    'Северо-Запад': ['петербург', 'псков', 'мурманск'],\n",
    "    'Дальний Восток': ['владивосток', 'сахалин', 'хабаровск']\n",
    "})\n",
    "\n",
    "keywords = pd.read_csv('D:/DataSci/Python/Numpy_pandas/hw3/ml-latest-small/keywords.csv')"
   ]
  },
  {
   "cell_type": "markdown",
   "id": "63d8dbdd",
   "metadata": {},
   "source": [
    "#### Решение 1 \n",
    "Ручное, передавая индексы (первое что пришло в голову, но мне оно не нравится) и судя по value_counts() еще и неверное"
   ]
  },
  {
   "cell_type": "code",
   "execution_count": 51,
   "id": "f22af29d",
   "metadata": {},
   "outputs": [],
   "source": [
    "def geo_class(row):\n",
    "    if (geo_data['Центр'][0] or geo_data['Центр'][1] or geo_data['Центр'][2]) in row['keyword'].lower():\n",
    "        return 'Центр'\n",
    "    if (geo_data['Северо-Запад'][0] or geo_data['Северо-Запад'][1] or geo_data['Северо-Запад'][2]) in row['keyword'].lower():\n",
    "        return 'Северо-Запад'\n",
    "    if (geo_data['Дальний Восток'][0] or geo_data['Дальний Восток'][1] or geo_data['Дальний Восток'][2]) in row['keyword'].lower():\n",
    "        return 'Дальний Восток'\n",
    "    return 'undefined'"
   ]
  },
  {
   "cell_type": "code",
   "execution_count": 52,
   "id": "7d3a3bda",
   "metadata": {},
   "outputs": [
    {
     "name": "stdout",
     "output_type": "stream",
     "text": [
      "Wall time: 980 ms\n"
     ]
    }
   ],
   "source": [
    "%%time\n",
    "keywords['region'] = keywords.apply(geo_class, axis=1)"
   ]
  },
  {
   "cell_type": "code",
   "execution_count": 53,
   "id": "1f5f251d",
   "metadata": {},
   "outputs": [
    {
     "data": {
      "text/plain": [
       "undefined         99462\n",
       "Центр               284\n",
       "Северо-Запад        211\n",
       "Дальний Восток       43\n",
       "Name: region, dtype: int64"
      ]
     },
     "execution_count": 53,
     "metadata": {},
     "output_type": "execute_result"
    }
   ],
   "source": [
    "keywords['region'].value_counts()"
   ]
  },
  {
   "cell_type": "markdown",
   "id": "0c7229b2",
   "metadata": {},
   "source": [
    "#### Решение 2\n",
    "Чуть лучше, но тоже не восторг, накрутил костыли, еще и выполняется долго"
   ]
  },
  {
   "cell_type": "code",
   "execution_count": 54,
   "id": "81b8e813",
   "metadata": {},
   "outputs": [],
   "source": [
    "new_geo_data = {}\n",
    "for i in geo_data:\n",
    "    for j in geo_data[i]:\n",
    "        new_geo_data[j] = i"
   ]
  },
  {
   "cell_type": "code",
   "execution_count": 55,
   "id": "29dd06a9",
   "metadata": {},
   "outputs": [],
   "source": [
    "def geo_class_2(rows):\n",
    "    for city, region in new_geo_data.items():\n",
    "        if city.lower() in rows['keyword'].lower():\n",
    "            return region\n",
    "        \n",
    "    return 'undefined'"
   ]
  },
  {
   "cell_type": "code",
   "execution_count": 56,
   "id": "c65d6548",
   "metadata": {},
   "outputs": [
    {
     "name": "stdout",
     "output_type": "stream",
     "text": [
      "Wall time: 2.35 s\n"
     ]
    }
   ],
   "source": [
    "%%time\n",
    "keywords['region'] = keywords.apply(geo_class_2, axis=1)"
   ]
  },
  {
   "cell_type": "code",
   "execution_count": 57,
   "id": "d85c7150",
   "metadata": {},
   "outputs": [
    {
     "data": {
      "text/plain": [
       "undefined         99253\n",
       "Центр               387\n",
       "Северо-Запад        266\n",
       "Дальний Восток       94\n",
       "Name: region, dtype: int64"
      ]
     },
     "execution_count": 57,
     "metadata": {},
     "output_type": "execute_result"
    }
   ],
   "source": [
    "keywords['region'].value_counts()"
   ]
  },
  {
   "cell_type": "code",
   "execution_count": 58,
   "id": "f35f3532",
   "metadata": {},
   "outputs": [
    {
     "data": {
      "text/html": [
       "<div>\n",
       "<style scoped>\n",
       "    .dataframe tbody tr th:only-of-type {\n",
       "        vertical-align: middle;\n",
       "    }\n",
       "\n",
       "    .dataframe tbody tr th {\n",
       "        vertical-align: top;\n",
       "    }\n",
       "\n",
       "    .dataframe thead th {\n",
       "        text-align: right;\n",
       "    }\n",
       "</style>\n",
       "<table border=\"1\" class=\"dataframe\">\n",
       "  <thead>\n",
       "    <tr style=\"text-align: right;\">\n",
       "      <th></th>\n",
       "      <th>keyword</th>\n",
       "      <th>shows</th>\n",
       "      <th>region</th>\n",
       "    </tr>\n",
       "  </thead>\n",
       "  <tbody>\n",
       "    <tr>\n",
       "      <th>6999</th>\n",
       "      <td>москва 24</td>\n",
       "      <td>37459</td>\n",
       "      <td>Центр</td>\n",
       "    </tr>\n",
       "    <tr>\n",
       "      <th>61986</th>\n",
       "      <td>такси везет москва официальный сайт</td>\n",
       "      <td>6063</td>\n",
       "      <td>Центр</td>\n",
       "    </tr>\n",
       "    <tr>\n",
       "      <th>43404</th>\n",
       "      <td>суперджоб москва вакансии</td>\n",
       "      <td>8208</td>\n",
       "      <td>Центр</td>\n",
       "    </tr>\n",
       "    <tr>\n",
       "      <th>73226</th>\n",
       "      <td>фанатик спартак москва</td>\n",
       "      <td>5353</td>\n",
       "      <td>Центр</td>\n",
       "    </tr>\n",
       "    <tr>\n",
       "      <th>68005</th>\n",
       "      <td>гостиница москва</td>\n",
       "      <td>5651</td>\n",
       "      <td>Центр</td>\n",
       "    </tr>\n",
       "    <tr>\n",
       "      <th>7090</th>\n",
       "      <td>гисметео ярославль</td>\n",
       "      <td>37008</td>\n",
       "      <td>Центр</td>\n",
       "    </tr>\n",
       "    <tr>\n",
       "      <th>97382</th>\n",
       "      <td>комсомольская правда москва</td>\n",
       "      <td>3708</td>\n",
       "      <td>Центр</td>\n",
       "    </tr>\n",
       "    <tr>\n",
       "      <th>35939</th>\n",
       "      <td>семейный доктор москва официальный сайт</td>\n",
       "      <td>9268</td>\n",
       "      <td>Центр</td>\n",
       "    </tr>\n",
       "    <tr>\n",
       "      <th>51916</th>\n",
       "      <td>сбербанк официальный сайт москва</td>\n",
       "      <td>7225</td>\n",
       "      <td>Центр</td>\n",
       "    </tr>\n",
       "    <tr>\n",
       "      <th>27302</th>\n",
       "      <td>расписание электричек тверь москва</td>\n",
       "      <td>23272</td>\n",
       "      <td>Центр</td>\n",
       "    </tr>\n",
       "  </tbody>\n",
       "</table>\n",
       "</div>"
      ],
      "text/plain": [
       "                                       keyword  shows region\n",
       "6999                                 москва 24  37459  Центр\n",
       "61986      такси везет москва официальный сайт   6063  Центр\n",
       "43404                суперджоб москва вакансии   8208  Центр\n",
       "73226                   фанатик спартак москва   5353  Центр\n",
       "68005                         гостиница москва   5651  Центр\n",
       "7090                        гисметео ярославль  37008  Центр\n",
       "97382              комсомольская правда москва   3708  Центр\n",
       "35939  семейный доктор москва официальный сайт   9268  Центр\n",
       "51916         сбербанк официальный сайт москва   7225  Центр\n",
       "27302       расписание электричек тверь москва  23272  Центр"
      ]
     },
     "execution_count": 58,
     "metadata": {},
     "output_type": "execute_result"
    }
   ],
   "source": [
    "keywords.sort_values(by='region', ascending=False).head(10)"
   ]
  },
  {
   "cell_type": "code",
   "execution_count": 59,
   "id": "c7e08d23",
   "metadata": {},
   "outputs": [
    {
     "data": {
      "text/html": [
       "<div>\n",
       "<style scoped>\n",
       "    .dataframe tbody tr th:only-of-type {\n",
       "        vertical-align: middle;\n",
       "    }\n",
       "\n",
       "    .dataframe tbody tr th {\n",
       "        vertical-align: top;\n",
       "    }\n",
       "\n",
       "    .dataframe thead th {\n",
       "        text-align: right;\n",
       "    }\n",
       "</style>\n",
       "<table border=\"1\" class=\"dataframe\">\n",
       "  <thead>\n",
       "    <tr style=\"text-align: right;\">\n",
       "      <th></th>\n",
       "      <th>keyword</th>\n",
       "      <th>shows</th>\n",
       "      <th>region</th>\n",
       "    </tr>\n",
       "  </thead>\n",
       "  <tbody>\n",
       "    <tr>\n",
       "      <th>33460</th>\n",
       "      <td>свет</td>\n",
       "      <td>9829</td>\n",
       "      <td>undefined</td>\n",
       "    </tr>\n",
       "    <tr>\n",
       "      <th>33459</th>\n",
       "      <td>аниме про демонов</td>\n",
       "      <td>9838</td>\n",
       "      <td>undefined</td>\n",
       "    </tr>\n",
       "    <tr>\n",
       "      <th>33458</th>\n",
       "      <td>df</td>\n",
       "      <td>9830</td>\n",
       "      <td>undefined</td>\n",
       "    </tr>\n",
       "    <tr>\n",
       "      <th>33457</th>\n",
       "      <td>конус</td>\n",
       "      <td>9830</td>\n",
       "      <td>undefined</td>\n",
       "    </tr>\n",
       "    <tr>\n",
       "      <th>33456</th>\n",
       "      <td>др</td>\n",
       "      <td>9830</td>\n",
       "      <td>undefined</td>\n",
       "    </tr>\n",
       "    <tr>\n",
       "      <th>33455</th>\n",
       "      <td>тобот мультфильм на русском смотреть онлайн</td>\n",
       "      <td>9790</td>\n",
       "      <td>undefined</td>\n",
       "    </tr>\n",
       "    <tr>\n",
       "      <th>33454</th>\n",
       "      <td>логические загадки</td>\n",
       "      <td>10369</td>\n",
       "      <td>undefined</td>\n",
       "    </tr>\n",
       "    <tr>\n",
       "      <th>33453</th>\n",
       "      <td>пенсионный фонд рф</td>\n",
       "      <td>9875</td>\n",
       "      <td>undefined</td>\n",
       "    </tr>\n",
       "    <tr>\n",
       "      <th>33452</th>\n",
       "      <td>olesya fattakhova</td>\n",
       "      <td>9832</td>\n",
       "      <td>undefined</td>\n",
       "    </tr>\n",
       "    <tr>\n",
       "      <th>99999</th>\n",
       "      <td>ггму</td>\n",
       "      <td>3630</td>\n",
       "      <td>undefined</td>\n",
       "    </tr>\n",
       "  </tbody>\n",
       "</table>\n",
       "</div>"
      ],
      "text/plain": [
       "                                           keyword  shows     region\n",
       "33460                                         свет   9829  undefined\n",
       "33459                            аниме про демонов   9838  undefined\n",
       "33458                                           df   9830  undefined\n",
       "33457                                        конус   9830  undefined\n",
       "33456                                           др   9830  undefined\n",
       "33455  тобот мультфильм на русском смотреть онлайн   9790  undefined\n",
       "33454                           логические загадки  10369  undefined\n",
       "33453                           пенсионный фонд рф   9875  undefined\n",
       "33452                            olesya fattakhova   9832  undefined\n",
       "99999                                         ггму   3630  undefined"
      ]
     },
     "execution_count": 59,
     "metadata": {},
     "output_type": "execute_result"
    }
   ],
   "source": [
    "keywords.sort_values(by='region', ascending=False).tail(10)"
   ]
  },
  {
   "cell_type": "markdown",
   "id": "4c763914",
   "metadata": {},
   "source": [
    "#### Решение 3 \n",
    "Лучшее что есть, немного взял помощи с Stackoverflow"
   ]
  },
  {
   "cell_type": "code",
   "execution_count": 26,
   "id": "a5f3d0b1",
   "metadata": {},
   "outputs": [],
   "source": [
    "def geo_classificator(data_row: str, geo: dict) -> str:\n",
    "    for region, city_list in geo.items():\n",
    "        if any(city in data_row for city in city_list):\n",
    "            return region\n",
    "        \n",
    "    return 'undefined'"
   ]
  },
  {
   "cell_type": "code",
   "execution_count": 27,
   "id": "26498bc3",
   "metadata": {},
   "outputs": [
    {
     "name": "stdout",
     "output_type": "stream",
     "text": [
      "Wall time: 176 ms\n"
     ]
    }
   ],
   "source": [
    "%%time\n",
    "keywords['region'] = keywords['keyword'].apply(geo_classificator, geo=geo_data)"
   ]
  },
  {
   "cell_type": "code",
   "execution_count": 28,
   "id": "65f73091",
   "metadata": {},
   "outputs": [
    {
     "data": {
      "text/plain": [
       "undefined         99253\n",
       "Центр               387\n",
       "Северо-Запад        266\n",
       "Дальний Восток       94\n",
       "Name: region, dtype: int64"
      ]
     },
     "execution_count": 28,
     "metadata": {},
     "output_type": "execute_result"
    }
   ],
   "source": [
    "keywords['region'].value_counts()"
   ]
  },
  {
   "cell_type": "code",
   "execution_count": 36,
   "id": "22c4b415",
   "metadata": {},
   "outputs": [
    {
     "data": {
      "text/html": [
       "<div>\n",
       "<style scoped>\n",
       "    .dataframe tbody tr th:only-of-type {\n",
       "        vertical-align: middle;\n",
       "    }\n",
       "\n",
       "    .dataframe tbody tr th {\n",
       "        vertical-align: top;\n",
       "    }\n",
       "\n",
       "    .dataframe thead th {\n",
       "        text-align: right;\n",
       "    }\n",
       "</style>\n",
       "<table border=\"1\" class=\"dataframe\">\n",
       "  <thead>\n",
       "    <tr style=\"text-align: right;\">\n",
       "      <th></th>\n",
       "      <th>keyword</th>\n",
       "      <th>shows</th>\n",
       "      <th>region</th>\n",
       "    </tr>\n",
       "  </thead>\n",
       "  <tbody>\n",
       "    <tr>\n",
       "      <th>6999</th>\n",
       "      <td>москва 24</td>\n",
       "      <td>37459</td>\n",
       "      <td>Центр</td>\n",
       "    </tr>\n",
       "    <tr>\n",
       "      <th>61986</th>\n",
       "      <td>такси везет москва официальный сайт</td>\n",
       "      <td>6063</td>\n",
       "      <td>Центр</td>\n",
       "    </tr>\n",
       "    <tr>\n",
       "      <th>43404</th>\n",
       "      <td>суперджоб москва вакансии</td>\n",
       "      <td>8208</td>\n",
       "      <td>Центр</td>\n",
       "    </tr>\n",
       "    <tr>\n",
       "      <th>73226</th>\n",
       "      <td>фанатик спартак москва</td>\n",
       "      <td>5353</td>\n",
       "      <td>Центр</td>\n",
       "    </tr>\n",
       "    <tr>\n",
       "      <th>68005</th>\n",
       "      <td>гостиница москва</td>\n",
       "      <td>5651</td>\n",
       "      <td>Центр</td>\n",
       "    </tr>\n",
       "    <tr>\n",
       "      <th>7090</th>\n",
       "      <td>гисметео ярославль</td>\n",
       "      <td>37008</td>\n",
       "      <td>Центр</td>\n",
       "    </tr>\n",
       "    <tr>\n",
       "      <th>97382</th>\n",
       "      <td>комсомольская правда москва</td>\n",
       "      <td>3708</td>\n",
       "      <td>Центр</td>\n",
       "    </tr>\n",
       "    <tr>\n",
       "      <th>35939</th>\n",
       "      <td>семейный доктор москва официальный сайт</td>\n",
       "      <td>9268</td>\n",
       "      <td>Центр</td>\n",
       "    </tr>\n",
       "    <tr>\n",
       "      <th>51916</th>\n",
       "      <td>сбербанк официальный сайт москва</td>\n",
       "      <td>7225</td>\n",
       "      <td>Центр</td>\n",
       "    </tr>\n",
       "    <tr>\n",
       "      <th>27302</th>\n",
       "      <td>расписание электричек тверь москва</td>\n",
       "      <td>23272</td>\n",
       "      <td>Центр</td>\n",
       "    </tr>\n",
       "  </tbody>\n",
       "</table>\n",
       "</div>"
      ],
      "text/plain": [
       "                                       keyword  shows region\n",
       "6999                                 москва 24  37459  Центр\n",
       "61986      такси везет москва официальный сайт   6063  Центр\n",
       "43404                суперджоб москва вакансии   8208  Центр\n",
       "73226                   фанатик спартак москва   5353  Центр\n",
       "68005                         гостиница москва   5651  Центр\n",
       "7090                        гисметео ярославль  37008  Центр\n",
       "97382              комсомольская правда москва   3708  Центр\n",
       "35939  семейный доктор москва официальный сайт   9268  Центр\n",
       "51916         сбербанк официальный сайт москва   7225  Центр\n",
       "27302       расписание электричек тверь москва  23272  Центр"
      ]
     },
     "execution_count": 36,
     "metadata": {},
     "output_type": "execute_result"
    }
   ],
   "source": [
    "keywords.sort_values(by='region', ascending=False).head(10)"
   ]
  },
  {
   "cell_type": "code",
   "execution_count": 37,
   "id": "93022cb2",
   "metadata": {},
   "outputs": [
    {
     "data": {
      "text/html": [
       "<div>\n",
       "<style scoped>\n",
       "    .dataframe tbody tr th:only-of-type {\n",
       "        vertical-align: middle;\n",
       "    }\n",
       "\n",
       "    .dataframe tbody tr th {\n",
       "        vertical-align: top;\n",
       "    }\n",
       "\n",
       "    .dataframe thead th {\n",
       "        text-align: right;\n",
       "    }\n",
       "</style>\n",
       "<table border=\"1\" class=\"dataframe\">\n",
       "  <thead>\n",
       "    <tr style=\"text-align: right;\">\n",
       "      <th></th>\n",
       "      <th>keyword</th>\n",
       "      <th>shows</th>\n",
       "      <th>region</th>\n",
       "    </tr>\n",
       "  </thead>\n",
       "  <tbody>\n",
       "    <tr>\n",
       "      <th>33460</th>\n",
       "      <td>свет</td>\n",
       "      <td>9829</td>\n",
       "      <td>undefined</td>\n",
       "    </tr>\n",
       "    <tr>\n",
       "      <th>33459</th>\n",
       "      <td>аниме про демонов</td>\n",
       "      <td>9838</td>\n",
       "      <td>undefined</td>\n",
       "    </tr>\n",
       "    <tr>\n",
       "      <th>33458</th>\n",
       "      <td>df</td>\n",
       "      <td>9830</td>\n",
       "      <td>undefined</td>\n",
       "    </tr>\n",
       "    <tr>\n",
       "      <th>33457</th>\n",
       "      <td>конус</td>\n",
       "      <td>9830</td>\n",
       "      <td>undefined</td>\n",
       "    </tr>\n",
       "    <tr>\n",
       "      <th>33456</th>\n",
       "      <td>др</td>\n",
       "      <td>9830</td>\n",
       "      <td>undefined</td>\n",
       "    </tr>\n",
       "    <tr>\n",
       "      <th>33455</th>\n",
       "      <td>тобот мультфильм на русском смотреть онлайн</td>\n",
       "      <td>9790</td>\n",
       "      <td>undefined</td>\n",
       "    </tr>\n",
       "    <tr>\n",
       "      <th>33454</th>\n",
       "      <td>логические загадки</td>\n",
       "      <td>10369</td>\n",
       "      <td>undefined</td>\n",
       "    </tr>\n",
       "    <tr>\n",
       "      <th>33453</th>\n",
       "      <td>пенсионный фонд рф</td>\n",
       "      <td>9875</td>\n",
       "      <td>undefined</td>\n",
       "    </tr>\n",
       "    <tr>\n",
       "      <th>33452</th>\n",
       "      <td>olesya fattakhova</td>\n",
       "      <td>9832</td>\n",
       "      <td>undefined</td>\n",
       "    </tr>\n",
       "    <tr>\n",
       "      <th>99999</th>\n",
       "      <td>ггму</td>\n",
       "      <td>3630</td>\n",
       "      <td>undefined</td>\n",
       "    </tr>\n",
       "  </tbody>\n",
       "</table>\n",
       "</div>"
      ],
      "text/plain": [
       "                                           keyword  shows     region\n",
       "33460                                         свет   9829  undefined\n",
       "33459                            аниме про демонов   9838  undefined\n",
       "33458                                           df   9830  undefined\n",
       "33457                                        конус   9830  undefined\n",
       "33456                                           др   9830  undefined\n",
       "33455  тобот мультфильм на русском смотреть онлайн   9790  undefined\n",
       "33454                           логические загадки  10369  undefined\n",
       "33453                           пенсионный фонд рф   9875  undefined\n",
       "33452                            olesya fattakhova   9832  undefined\n",
       "99999                                         ггму   3630  undefined"
      ]
     },
     "execution_count": 37,
     "metadata": {},
     "output_type": "execute_result"
    }
   ],
   "source": [
    "keywords.sort_values(by='region', ascending=False).tail(10)"
   ]
  }
 ],
 "metadata": {
  "kernelspec": {
   "display_name": "Python 3 (ipykernel)",
   "language": "python",
   "name": "python3"
  },
  "language_info": {
   "codemirror_mode": {
    "name": "ipython",
    "version": 3
   },
   "file_extension": ".py",
   "mimetype": "text/x-python",
   "name": "python",
   "nbconvert_exporter": "python",
   "pygments_lexer": "ipython3",
   "version": "3.9.7"
  }
 },
 "nbformat": 4,
 "nbformat_minor": 5
}
