{
 "cells": [
  {
   "cell_type": "markdown",
   "id": "6503c442",
   "metadata": {},
   "source": [
    "# Задание 1\n",
    "Скачайте с сайта датасет любого размера. Определите, какому фильму было выставлено больше всего оценок 5.0."
   ]
  },
  {
   "cell_type": "code",
   "execution_count": 22,
   "id": "643ad18b",
   "metadata": {},
   "outputs": [],
   "source": [
    "import pandas as pd"
   ]
  },
  {
   "cell_type": "code",
   "execution_count": 23,
   "id": "33b1a489",
   "metadata": {},
   "outputs": [],
   "source": [
    "data = pd.read_csv('D:/DataSci/Python/Numpy_pandas/hw2/dataset/ratings.csv')"
   ]
  },
  {
   "cell_type": "code",
   "execution_count": 24,
   "id": "00d574b8",
   "metadata": {},
   "outputs": [
    {
     "name": "stdout",
     "output_type": "stream",
     "text": [
      "Фильм с ID № 318 имеет 39553 оценок '5.0'\n"
     ]
    }
   ],
   "source": [
    "filtered_by_rate = data[data['rating'] == 5.0]\n",
    "best_rate_film = filtered_by_rate['movieId'].value_counts().head(1)\n",
    "total = dict(best_rate_film)\n",
    "for k, v in total.items():\n",
    "    print(f\"Фильм с ID № {k} имеет {v} оценок '5.0'\")"
   ]
  },
  {
   "cell_type": "code",
   "execution_count": 25,
   "id": "2ebb8bd4",
   "metadata": {},
   "outputs": [
    {
     "data": {
      "text/plain": [
       "318    39553\n",
       "Name: movieId, dtype: int64"
      ]
     },
     "execution_count": 25,
     "metadata": {},
     "output_type": "execute_result"
    }
   ],
   "source": [
    "(data[data['rating'] == 5.0])['movieId'].value_counts().head(1)"
   ]
  },
  {
   "cell_type": "markdown",
   "id": "f0fb05d3",
   "metadata": {},
   "source": [
    "# Задание 2\n",
    "По данным файла power.csv посчитайте суммарное потребление стран Прибалтики (Латвия, Литва и Эстония) \n",
    "категорий 4, 12 и 21 за период с 2005 по 2010 год. Не учитывайте в расчётах отрицательные значения quantity."
   ]
  },
  {
   "cell_type": "code",
   "execution_count": 26,
   "id": "ce59fa4d",
   "metadata": {},
   "outputs": [],
   "source": [
    "country_data = pd.read_csv('power.csv')"
   ]
  },
  {
   "cell_type": "code",
   "execution_count": 27,
   "id": "39627be9",
   "metadata": {},
   "outputs": [
    {
     "name": "stdout",
     "output_type": "stream",
     "text": [
      "['Latvia']\n",
      "\n",
      "['Lithuania']\n",
      "\n",
      "['Estonia' 'State of Palestine' 'Timor-Leste']\n",
      "\n"
     ]
    }
   ],
   "source": [
    "print(country_data[country_data['country'].str.contains('lat', case=False)]['country'].unique())\n",
    "print()\n",
    "print(country_data[country_data['country'].str.contains('lit', case=False)]['country'].unique())\n",
    "print()\n",
    "print(country_data[country_data['country'].str.contains('est', case=False)]['country'].unique())\n",
    "print()"
   ]
  },
  {
   "cell_type": "code",
   "execution_count": 28,
   "id": "0598db54",
   "metadata": {},
   "outputs": [
    {
     "name": "stdout",
     "output_type": "stream",
     "text": [
      "Суммарное потребление стран Прибалтики: 240580.0\n"
     ]
    }
   ],
   "source": [
    "filt_countries = country_data[(country_data['country']=='Latvia') | (country_data['country']=='Lithuania') | (country_data['country']=='Estonia')]\n",
    "filt_by_category = filt_countries[(filt_countries['category']==4) | (filt_countries['category']==12) | (filt_countries['category']==21)]\n",
    "filt_by_year = filt_by_category[(filt_by_category['year']==2005) | (filt_by_category['year']==2006) | (filt_by_category['year']==2007) | (filt_by_category['year']==2008) | (filt_by_category['year']==2009) | (filt_by_category['year']==2010)]\n",
    "\n",
    "print(f\"Суммарное потребление стран Прибалтики: {filt_by_year[filt_by_year['quantity'] > 0]['quantity'].sum()}\")"
   ]
  },
  {
   "cell_type": "markdown",
   "id": "d0a63d05",
   "metadata": {},
   "source": [
    "# Задание 3\n",
    "Выберите страницу любого сайта с табличными данными. Импортируйте таблицы в pandas DataFrame. \n",
    "Вы можете взять любые страницы.\n",
    "Примеры страниц:\n",
    "\n",
    "https://fortrader.org/quotes\n",
    "\n",
    "www.finanz.ru...om-vremeni."
   ]
  },
  {
   "cell_type": "code",
   "execution_count": 29,
   "id": "8b3043c6",
   "metadata": {},
   "outputs": [],
   "source": [
    "df = pd.read_html('https://www.cbr.ru/currency_base/daily/', attrs = {'class': 'data'}, encoding='utf-8')"
   ]
  },
  {
   "cell_type": "code",
   "execution_count": 30,
   "id": "4066d545",
   "metadata": {},
   "outputs": [
    {
     "data": {
      "text/plain": [
       "[    Цифр. код Букв. код  Единиц                                    Валюта  \\\n",
       " 0          36       AUD       1                      Австралийский доллар   \n",
       " 1         944       AZN       1                     Азербайджанский манат   \n",
       " 2          51       AMD     100                          Армянских драмов   \n",
       " 3         933       BYN       1                         Белорусский рубль   \n",
       " 4         975       BGN       1                            Болгарский лев   \n",
       " 5         986       BRL       1                          Бразильский реал   \n",
       " 6         348       HUF     100                       Венгерских форинтов   \n",
       " 7         410       KRW    1000                      Вон Республики Корея   \n",
       " 8         344       HKD      10                      Гонконгских долларов   \n",
       " 9         208       DKK      10                              Датских крон   \n",
       " 10        840       USD       1                                Доллар США   \n",
       " 11        978       EUR       1                                      Евро   \n",
       " 12        356       INR     100                           Индийских рупий   \n",
       " 13        398       KZT     100                       Казахстанских тенге   \n",
       " 14        124       CAD       1                          Канадский доллар   \n",
       " 15        417       KGS     100                          Киргизских сомов   \n",
       " 16        156       CNY      10                           Китайских юаней   \n",
       " 17        498       MDL      10                           Молдавских леев   \n",
       " 18        934       TMT       1                   Новый туркменский манат   \n",
       " 19        578       NOK      10                           Норвежских крон   \n",
       " 20        985       PLN       1                           Польский злотый   \n",
       " 21        946       RON       1                             Румынский лей   \n",
       " 22        960       XDR       1     СДР (специальные права заимствования)   \n",
       " 23        702       SGD       1                       Сингапурский доллар   \n",
       " 24        972       TJS      10                         Таджикских сомони   \n",
       " 25        949       TRY      10                              Турецких лир   \n",
       " 26        860       UZS   10000                           Узбекских сумов   \n",
       " 27        980       UAH      10                         Украинских гривен   \n",
       " 28        826       GBP       1  Фунт стерлингов Соединенного королевства   \n",
       " 29        203       CZK      10                              Чешских крон   \n",
       " 30        752       SEK      10                             Шведских крон   \n",
       " 31        756       CHF       1                         Швейцарский франк   \n",
       " 32        710       ZAR      10                    Южноафриканских рэндов   \n",
       " 33        392       JPY     100                              Японских иен   \n",
       " \n",
       "       Курс  \n",
       " 0   459496  \n",
       " 1   405904  \n",
       " 2   175256  \n",
       " 3   259461  \n",
       " 4   373902  \n",
       " 5   129811  \n",
       " 6   182058  \n",
       " 7   535078  \n",
       " 8   888193  \n",
       " 9   983169  \n",
       " 10  690037  \n",
       " 11  733389  \n",
       " 12  834230  \n",
       " 13  147368  \n",
       " 14  505411  \n",
       " 15  805459  \n",
       " 16  987901  \n",
       " 17  355884  \n",
       " 18  197153  \n",
       " 19  699175  \n",
       " 20  156784  \n",
       " 21  149381  \n",
       " 22  917321  \n",
       " 23  508727  \n",
       " 24  676030  \n",
       " 25  370033  \n",
       " 26  611400  \n",
       " 27  186841  \n",
       " 28  837015  \n",
       " 29  301840  \n",
       " 30  663089  \n",
       " 31  745100  \n",
       " 32  398191  \n",
       " 33  518396  ]"
      ]
     },
     "execution_count": 30,
     "metadata": {},
     "output_type": "execute_result"
    }
   ],
   "source": [
    "df"
   ]
  },
  {
   "cell_type": "code",
   "execution_count": null,
   "id": "251f8109",
   "metadata": {},
   "outputs": [],
   "source": []
  }
 ],
 "metadata": {
  "kernelspec": {
   "display_name": "Python 3 (ipykernel)",
   "language": "python",
   "name": "python3"
  },
  "language_info": {
   "codemirror_mode": {
    "name": "ipython",
    "version": 3
   },
   "file_extension": ".py",
   "mimetype": "text/x-python",
   "name": "python",
   "nbconvert_exporter": "python",
   "pygments_lexer": "ipython3",
   "version": "3.9.7"
  }
 },
 "nbformat": 4,
 "nbformat_minor": 5
}
