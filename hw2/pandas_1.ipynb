{
 "cells": [
  {
   "cell_type": "markdown",
   "id": "4a0d6a2b",
   "metadata": {},
   "source": [
    "# Задание 1\n",
    "Скачайте с сайта датасет любого размера. Определите, какому фильму было выставлено больше всего оценок 5.0."
   ]
  },
  {
   "cell_type": "code",
   "execution_count": 2,
   "id": "2b52fc20",
   "metadata": {},
   "outputs": [],
   "source": [
    "import pandas as pd"
   ]
  },
  {
   "cell_type": "code",
   "execution_count": null,
   "id": "cf782226",
   "metadata": {},
   "outputs": [],
   "source": [
    "data = pd.read_csv('D:/DataSci/Python/Numpy_pandas/hw2/dataset/ratings.csv')"
   ]
  },
  {
   "cell_type": "code",
   "execution_count": null,
   "id": "1dbcfdb9",
   "metadata": {},
   "outputs": [],
   "source": [
    "filtered_by_rate = data[data['rating'] == 5.0]\n",
    "best_rate_film = filtered_by_rate['movieId'].value_counts().head(1)\n",
    "total = dict(best_rate_film)\n",
    "for k, v in total.items():\n",
    "    print(f\"Фильм с ID № {k} имеет {v} оценок '5.0'\")"
   ]
  },
  {
   "cell_type": "code",
   "execution_count": null,
   "id": "151a2932",
   "metadata": {},
   "outputs": [],
   "source": [
    "(data[data['rating'] == 5.0])['movieId'].value_counts().head(1)"
   ]
  },
  {
   "cell_type": "markdown",
   "id": "1faade92",
   "metadata": {},
   "source": [
    "# Задание 2\n",
    "По данным файла power.csv посчитайте суммарное потребление стран Прибалтики (Латвия, Литва и Эстония) \n",
    "категорий 4, 12 и 21 за период с 2005 по 2010 год. Не учитывайте в расчётах отрицательные значения quantity."
   ]
  },
  {
   "cell_type": "code",
   "execution_count": null,
   "id": "5a236fd2",
   "metadata": {},
   "outputs": [],
   "source": [
    "country_data = pd.read_csv('power.csv')"
   ]
  },
  {
   "cell_type": "code",
   "execution_count": null,
   "id": "6ac51a21",
   "metadata": {},
   "outputs": [],
   "source": [
    "print(country_data[country_data['country'].str.contains('lat', case=False)]['country'].unique())\n",
    "print()\n",
    "print(country_data[country_data['country'].str.contains('lit', case=False)]['country'].unique())\n",
    "print()\n",
    "print(country_data[country_data['country'].str.contains('est', case=False)]['country'].unique())\n",
    "print()"
   ]
  },
  {
   "cell_type": "code",
   "execution_count": null,
   "id": "6fa15cde",
   "metadata": {},
   "outputs": [],
   "source": [
    "filt_countries = country_data[(country_data['country']=='Latvia') | (country_data['country']=='Lithuania') | (country_data['country']=='Estonia')]\n",
    "filt_by_category = filt_countries[(filt_countries['category']==4) | (filt_countries['category']==12) | (filt_countries['category']==21)]\n",
    "filt_by_year = filt_by_category[(filt_by_category['year']==2005) | (filt_by_category['year']==2006) | (filt_by_category['year']==2007) | (filt_by_category['year']==2008) | (filt_by_category['year']==2009) | (filt_by_category['year']==2010)]\n",
    "\n",
    "print(f\"Суммарное потребление стран Прибалтики: {filt_by_year[filt_by_year['quantity'] > 0]['quantity'].sum()}\")"
   ]
  },
  {
   "cell_type": "markdown",
   "id": "20a57193",
   "metadata": {},
   "source": [
    "# Задание 3\n",
    "Выберите страницу любого сайта с табличными данными. Импортируйте таблицы в pandas DataFrame. \n",
    "Вы можете взять любые страницы.\n",
    "Примеры страниц:\n",
    "\n",
    "https://fortrader.org/quotes\n",
    "\n",
    "www.finanz.ru...om-vremeni."
   ]
  },
  {
   "cell_type": "code",
   "execution_count": 20,
   "id": "fdd5ffea",
   "metadata": {},
   "outputs": [],
   "source": [
    "df = pd.read_html('https://www.cbr.ru/currency_base/daily/', attrs = {'class': 'data'}, encoding='utf-8')"
   ]
  }
 ],
 "metadata": {
  "kernelspec": {
   "display_name": "Python 3 (ipykernel)",
   "language": "python",
   "name": "python3"
  },
  "language_info": {
   "codemirror_mode": {
    "name": "ipython",
    "version": 3
   },
   "file_extension": ".py",
   "mimetype": "text/x-python",
   "name": "python",
   "nbconvert_exporter": "python",
   "pygments_lexer": "ipython3",
   "version": "3.9.7"
  }
 },
 "nbformat": 4,
 "nbformat_minor": 5
}
